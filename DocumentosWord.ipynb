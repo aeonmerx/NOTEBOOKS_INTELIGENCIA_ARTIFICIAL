{
 "cells": [
  {
   "cell_type": "markdown",
   "id": "1defa766-d88f-4544-9ba5-ecaad1e22fe8",
   "metadata": {},
   "source": [
    "**Automatización de Documentos en Word con Python y Pandas**\n",
    "<hr>\n",
    "En este ejemplo, automatizaremos la creación de documentos en Word usando Python y la librería docxtpl. Además, utilizaremos datos de un archivo Excel para llenar plantillas de Word.\n",
    "<hr>\n",
    "<strong>Requisitos</strong>\n",
    "Para seguir este ejemplo, necesitarás las siguientes librerías de Python:\n",
    "<hr>\n",
    "docxtpl: Para manejar las plantillas de Word.\n",
    "pandas: Para manejar datos en formato tabular (Excel en este caso).\n",
    "Puedes instalar las librerías necesarias usando pip:"
   ]
  },
  {
   "cell_type": "code",
   "execution_count": 1,
   "id": "f79e62e2-8cf2-44a6-be9b-30743cd9db83",
   "metadata": {
    "scrolled": true
   },
   "outputs": [
    {
     "name": "stdout",
     "output_type": "stream",
     "text": [
      "Defaulting to user installation because normal site-packages is not writeable\n",
      "Looking in links: /usr/share/pip-wheels\n",
      "Requirement already satisfied: docxtpl in ./.local/lib/python3.11/site-packages (0.17.0)\n",
      "Requirement already satisfied: six in /opt/conda/envs/anaconda-panel-2023.05-py310/lib/python3.11/site-packages (from docxtpl) (1.16.0)\n",
      "Requirement already satisfied: python-docx>=1.1.1 in ./.local/lib/python3.11/site-packages (from docxtpl) (1.1.2)\n",
      "Requirement already satisfied: docxcompose in ./.local/lib/python3.11/site-packages (from docxtpl) (1.4.0)\n",
      "Requirement already satisfied: jinja2 in /opt/conda/envs/anaconda-panel-2023.05-py310/lib/python3.11/site-packages (from docxtpl) (3.1.2)\n",
      "Requirement already satisfied: lxml in /opt/conda/envs/anaconda-panel-2023.05-py310/lib/python3.11/site-packages (from docxtpl) (4.9.3)\n",
      "Requirement already satisfied: typing-extensions>=4.9.0 in ./.local/lib/python3.11/site-packages (from python-docx>=1.1.1->docxtpl) (4.12.2)\n",
      "Requirement already satisfied: setuptools in /opt/conda/envs/anaconda-panel-2023.05-py310/lib/python3.11/site-packages (from docxcompose->docxtpl) (68.0.0)\n",
      "Requirement already satisfied: babel in /opt/conda/envs/anaconda-panel-2023.05-py310/lib/python3.11/site-packages (from docxcompose->docxtpl) (2.11.0)\n",
      "Requirement already satisfied: MarkupSafe>=2.0 in /opt/conda/envs/anaconda-panel-2023.05-py310/lib/python3.11/site-packages (from jinja2->docxtpl) (2.1.1)\n",
      "Requirement already satisfied: pytz>=2015.7 in /opt/conda/envs/anaconda-panel-2023.05-py310/lib/python3.11/site-packages (from babel->docxcompose->docxtpl) (2023.3.post1)\n"
     ]
    }
   ],
   "source": [
    "!pip install docxtpl"
   ]
  },
  {
   "cell_type": "code",
   "execution_count": 25,
   "id": "d65c90a7-b478-4964-81c0-2a97c48aef81",
   "metadata": {},
   "outputs": [
    {
     "name": "stdout",
     "output_type": "stream",
     "text": [
      "{'nombre_alumno': 'Ana Ramirez', 'nota_matematicas': 4.6, 'nota_fisica': 4.2, 'nota_quimica': 4.2, 'nombre': 'Administrador', 'telefono': '3124661309', 'correo': 'admin@aeoncol.com', 'fecha': '08/07/2024'}\n",
      "{'nombre_alumno': 'Gildardo Aponte', 'nota_matematicas': 4.2, 'nota_fisica': 4.3, 'nota_quimica': 4.3, 'nombre': 'Administrador', 'telefono': '3124661309', 'correo': 'admin@aeoncol.com', 'fecha': '08/07/2024'}\n",
      "{'nombre_alumno': 'Andrea Sanchez', 'nota_matematicas': 4.3, 'nota_fisica': 4.4, 'nota_quimica': 4.4, 'nombre': 'Administrador', 'telefono': '3124661309', 'correo': 'admin@aeoncol.com', 'fecha': '08/07/2024'}\n",
      "{'nombre_alumno': 'Miguel Orozco', 'nota_matematicas': 4.2, 'nota_fisica': 4.5, 'nota_quimica': 4.5, 'nombre': 'Administrador', 'telefono': '3124661309', 'correo': 'admin@aeoncol.com', 'fecha': '08/07/2024'}\n",
      "{'nombre_alumno': 'Santiago Carmona', 'nota_matematicas': 4.6, 'nota_fisica': 4.6, 'nota_quimica': 4.6, 'nombre': 'Administrador', 'telefono': '3124661309', 'correo': 'admin@aeoncol.com', 'fecha': '08/07/2024'}\n",
      "{'nombre_alumno': 'Marta Mora', 'nota_matematicas': 4.3, 'nota_fisica': 4.7, 'nota_quimica': 4.7, 'nombre': 'Administrador', 'telefono': '3124661309', 'correo': 'admin@aeoncol.com', 'fecha': '08/07/2024'}\n",
      "{'nombre_alumno': 'Andres Ayala', 'nota_matematicas': 4.2, 'nota_fisica': 4.8, 'nota_quimica': 4.8, 'nombre': 'Administrador', 'telefono': '3124661309', 'correo': 'admin@aeoncol.com', 'fecha': '08/07/2024'}\n",
      "{'nombre_alumno': 'Lina Martinez', 'nota_matematicas': 4.3, 'nota_fisica': 4.9, 'nota_quimica': 4.8, 'nombre': 'Administrador', 'telefono': '3124661309', 'correo': 'admin@aeoncol.com', 'fecha': '08/07/2024'}\n",
      "{'nombre_alumno': 'Luisa Machado', 'nota_matematicas': 4.2, 'nota_fisica': 4.8, 'nota_quimica': 4.3, 'nombre': 'Administrador', 'telefono': '3124661309', 'correo': 'admin@aeoncol.com', 'fecha': '08/07/2024'}\n",
      "{'nombre_alumno': 'Laura Zapata', 'nota_matematicas': 4.6, 'nota_fisica': 4.8, 'nota_quimica': 4.8, 'nombre': 'Administrador', 'telefono': '3124661309', 'correo': 'admin@aeoncol.com', 'fecha': '08/07/2024'}\n",
      "{'nombre_alumno': 'Milena Esquivel', 'nota_matematicas': 4.2, 'nota_fisica': 4.2, 'nota_quimica': 4.8, 'nombre': 'Administrador', 'telefono': '3124661309', 'correo': 'admin@aeoncol.com', 'fecha': '08/07/2024'}\n",
      "{'nombre_alumno': 'Nicolas Muñoz', 'nota_matematicas': 4.2, 'nota_fisica': 4.2, 'nota_quimica': 4.8, 'nombre': 'Administrador', 'telefono': '3124661309', 'correo': 'admin@aeoncol.com', 'fecha': '08/07/2024'}\n"
     ]
    }
   ],
   "source": [
    "import pandas as pd\n",
    "from datetime import datetime\n",
    "from docxtpl import DocxTemplate\n",
    "\n",
    "# Cargar la plantilla de Word\n",
    "doc = DocxTemplate('plantilla.docx')\n",
    "\n",
    "# Definir variables constantes\n",
    "nombre = \"Administrador\"\n",
    "telefono = \"3124661309\"\n",
    "correo = \"admin@aeoncol.com\"\n",
    "fecha = datetime.today().strftime(\"%d/%m/%Y\")\n",
    "\n",
    "constantes = {\n",
    "    'nombre': nombre,\n",
    "    'telefono': telefono,\n",
    "    'correo': correo,\n",
    "    'fecha': fecha\n",
    "}\n",
    "\n",
    "# Renderizar y guardar el documento base\n",
    "doc.render(constantes)\n",
    "doc.save(f\"prueba.docx\")\n",
    "\n",
    "# Cargar datos desde Excel\n",
    "df = pd.read_excel('Alumnos.xlsx')\n",
    "\n",
    "# Generar documentos para cada alumno\n",
    "for indice, fila in df.iterrows():\n",
    "    contenido = {\n",
    "        'nombre_alumno': fila[\"Nombre del Alumno\"],\n",
    "        'nota_matematicas': fila[\"Matematicas\"],\n",
    "        'nota_fisica': fila[\"Fisica\"],\n",
    "        'nota_quimica': fila[\"Quimica\"],\n",
    "    }\n",
    "    contenido.update(constantes)\n",
    "    doc.render(contenido)\n",
    "    doc.save(f\"notas_de_{fila['Nombre del Alumno']}.docx\")\n",
    "    print(contenido)"
   ]
  },
  {
   "cell_type": "markdown",
   "id": "d35a6d31-6d64-4b1d-a4e7-c4fdeeb1234d",
   "metadata": {},
   "source": [
    "MUCHAS GRACIAS SIGUE APRENDIENDO CON AEON MERX"
   ]
  },
  {
   "cell_type": "code",
   "execution_count": null,
   "id": "c424decd-d130-4b43-9195-6c9cb9521c95",
   "metadata": {},
   "outputs": [],
   "source": []
  }
 ],
 "metadata": {
  "kernelspec": {
   "display_name": "anaconda-panel-2023.05-py310",
   "language": "python",
   "name": "conda-env-anaconda-panel-2023.05-py310-py"
  },
  "language_info": {
   "codemirror_mode": {
    "name": "ipython",
    "version": 3
   },
   "file_extension": ".py",
   "mimetype": "text/x-python",
   "name": "python",
   "nbconvert_exporter": "python",
   "pygments_lexer": "ipython3",
   "version": "3.11.5"
  }
 },
 "nbformat": 4,
 "nbformat_minor": 5
}
