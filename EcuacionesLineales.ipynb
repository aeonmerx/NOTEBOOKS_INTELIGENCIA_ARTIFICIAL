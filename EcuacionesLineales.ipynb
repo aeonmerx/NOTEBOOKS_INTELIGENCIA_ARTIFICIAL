{
 "cells": [
  {
   "cell_type": "code",
   "execution_count": 3,
   "id": "de4e93e3-217f-408f-a9a6-065d1e9eac95",
   "metadata": {},
   "outputs": [],
   "source": [
    "import numpy as np\n",
    "import simpy as sp"
   ]
  },
  {
   "cell_type": "code",
   "execution_count": 4,
   "id": "bcad93ff-3cb6-45b6-99c8-7df1417aac2c",
   "metadata": {},
   "outputs": [
    {
     "name": "stdout",
     "output_type": "stream",
     "text": [
      "Matriz de ceros:\n",
      "[[0. 0. 0.]\n",
      " [0. 0. 0.]\n",
      " [0. 0. 0.]]\n",
      "\n",
      "Matriz de unos:\n",
      "[[1. 1. 1.]\n",
      " [1. 1. 1.]\n",
      " [1. 1. 1.]]\n",
      "\n",
      "Matriz identidad:\n",
      "[[1. 0. 0.]\n",
      " [0. 1. 0.]\n",
      " [0. 0. 1.]]\n",
      "\n",
      "Matriz específica:\n",
      "[[1 2 3]\n",
      " [4 5 6]\n",
      " [7 8 9]]\n"
     ]
    }
   ],
   "source": [
    "\n",
    "# Crear una matriz de ceros\n",
    "matrix_zeros = np.zeros((3, 3))  # Matriz 3x3 de ceros\n",
    "print(\"Matriz de ceros:\")\n",
    "print(matrix_zeros)\n",
    "\n",
    "# Crear una matriz de unos\n",
    "matrix_ones = np.ones((3, 3))  # Matriz 3x3 de unos\n",
    "print(\"\\nMatriz de unos:\")\n",
    "print(matrix_ones)\n",
    "\n",
    "# Crear una matriz identidad\n",
    "identity_matrix = np.eye(3)  # Matriz identidad 3x3\n",
    "print(\"\\nMatriz identidad:\")\n",
    "print(identity_matrix)\n",
    "\n",
    "# Crear una matriz con valores específicos\n",
    "specific_matrix = np.array([[1, 2, 3], [4, 5, 6], [7, 8, 9]])\n",
    "print(\"\\nMatriz específica:\")\n",
    "print(specific_matrix)\n"
   ]
  },
  {
   "cell_type": "markdown",
   "id": "39624e07-6879-4a8c-b7ba-0353e82b0fb6",
   "metadata": {},
   "source": [
    "<h1> SUMA Y RESTA DE MATRICES </h1>"
   ]
  },
  {
   "cell_type": "code",
   "execution_count": 5,
   "id": "39073968-eb34-4219-aa66-37737f2383e8",
   "metadata": {},
   "outputs": [
    {
     "name": "stdout",
     "output_type": "stream",
     "text": [
      "\n",
      "Suma de matrices:\n",
      "[[ 6  8]\n",
      " [10 12]]\n",
      "\n",
      "Resta de matrices:\n",
      "[[-4 -4]\n",
      " [-4 -4]]\n"
     ]
    }
   ],
   "source": [
    "matrix_a = np.array([[1, 2], [3, 4]])\n",
    "matrix_b = np.array([[5, 6], [7, 8]])\n",
    "\n",
    "# Suma\n",
    "matrix_sum = matrix_a + matrix_b\n",
    "print(\"\\nSuma de matrices:\")\n",
    "print(matrix_sum)\n",
    "\n",
    "# Resta\n",
    "matrix_diff = matrix_a - matrix_b\n",
    "print(\"\\nResta de matrices:\")\n",
    "print(matrix_diff)\n"
   ]
  },
  {
   "cell_type": "markdown",
   "id": "1c27baea-1ea8-40ed-a213-8dbedfba1de7",
   "metadata": {},
   "source": [
    "<h1> MULTIPLICACIÓN DE MATRICES</h1>\n"
   ]
  },
  {
   "cell_type": "code",
   "execution_count": 10,
   "id": "48d1107d-eb05-4a65-8220-0479e52c6b02",
   "metadata": {},
   "outputs": [
    {
     "name": "stdout",
     "output_type": "stream",
     "text": [
      "\n",
      "Multiplicación de matrices:\n",
      "[[19 22]\n",
      " [43 50]]\n"
     ]
    }
   ],
   "source": [
    "matrix_a = np.array([[1, 2], [3, 4]])\n",
    "matrix_b = np.array([[5, 6], [7, 8]])\n",
    "\n",
    "# Multiplicación de matrices\n",
    "matrix_product = matrix_a @ matrix_b\n",
    "# matrix_product = np.dot(matrix_a,matrix_b)\n",
    "print(\"\\nMultiplicación de matrices:\")\n",
    "print(matrix_product)\n"
   ]
  },
  {
   "attachments": {
    "8ca12447-a54b-42ad-8691-2bc5dbae1cb0.png": {
     "image/png": "[encoded data removed]"
    }
   },
   "cell_type": "markdown",
   "id": "8c13c341-b98a-4283-84ad-34d1c43f8571",
   "metadata": {},
   "source": [
    "![image.png](attachment:8ca12447-a54b-42ad-8691-2bc5dbae1cb0.png)\n"
   ]
  },
  {
   "cell_type": "markdown",
   "id": "2d0cc575-fefc-4b93-92d7-b2d76055057d",
   "metadata": {},
   "source": [
    "<strong>EL OBJETIVO ES ENCONTRAR LOS VALORES DE X & Y <strong>"
   ]
  },
  {
   "cell_type": "markdown",
   "id": "9c3941fc-19ec-466c-bc75-a10c85d637b3",
   "metadata": {},
   "source": [
    "<code>2.1. Método de Eliminación de Gauss</code>"
   ]
  },
  {
   "cell_type": "code",
   "execution_count": 18,
   "id": "6d27173a-a693-4190-8b48-69d61a5bfee0",
   "metadata": {},
   "outputs": [
    {
     "name": "stdout",
     "output_type": "stream",
     "text": [
      "\n",
      "Solución del sistema de ecuaciones (Método de Gauss):\n",
      "x = 2.0\n",
      "y = 3.0\n"
     ]
    }
   ],
   "source": [
    "\n",
    "# Definir la matriz de coeficientes A y el vector de constantes b\n",
    "A = np.array([[2, 3], [4, -1]], dtype=float)  # Matriz de coeficientes del sistema\n",
    "b = np.array([13, 5], dtype=float)            # Vector de constantes del sistema\n",
    "\n",
    "# Formar la matriz aumentada que combina A y b en una sola matriz\n",
    "augmented_matrix = np.hstack((A, b.reshape(-1, 1)))\n",
    "# np.hstack() concatena matrices en la dirección horizontal\n",
    "# b.reshape(-1, 1) convierte b en una columna para concatenarla con A\n",
    "\n",
    "# Método de Eliminación de Gauss\n",
    "def gauss_elimination(matrix):\n",
    "    A = matrix[:, :-1]  # Extraer la parte de la matriz de coeficientes\n",
    "    b = matrix[:, -1]   # Extraer el vector de constantes\n",
    "    n = len(b)          # Número de ecuaciones (o tamaño de la matriz)\n",
    "\n",
    "    # Proceso de eliminación hacia adelante\n",
    "    for i in range(n):\n",
    "        # Buscar el pivote máximo en la columna actual para evitar problemas de precisión numérica\n",
    "        max_row = np.argmax(np.abs(A[i:n, i])) + i\n",
    "        # np.abs() devuelve el valor absoluto\n",
    "        # np.argmax() devuelve el índice del valor máximo\n",
    "        # Añadimos i para obtener el índice correcto en la matriz completa\n",
    "        if i != max_row:\n",
    "            # Intercambiar la fila actual con la fila que contiene el pivote máximo\n",
    "            A[[i, max_row], :] = A[[max_row, i], :]\n",
    "            b[[i, max_row]] = b[[max_row, i]]\n",
    "\n",
    "        # Hacer ceros debajo del pivote actual\n",
    "        for j in range(i + 1, n):\n",
    "            factor = A[j, i] / A[i, i]  # Calcular el factor para hacer ceros debajo del pivote\n",
    "            # np.dot() no se usa aquí porque trabajamos con operaciones de matriz elemento a elemento\n",
    "            A[j, i:] -= factor * A[i, i:]  # Actualizar las filas de la matriz de coeficientes\n",
    "            b[j] -= factor * b[i]          # Actualizar el vector de constantes\n",
    "\n",
    "    # Sustitución hacia atrás para resolver el sistema\n",
    "    x = np.zeros(n)  # Inicializar el vector de soluciones con ceros\n",
    "    for i in reversed(range(n)):\n",
    "        # Resolver para x[i] usando la sustitución hacia atrás\n",
    "        x[i] = (b[i] - np.dot(A[i, i + 1:], x[i + 1:])) / A[i, i]\n",
    "        # np.dot() se usa aquí para calcular el producto punto de los elementos ya resueltos\n",
    "\n",
    "    return x\n",
    "\n",
    "# Aplicar el método de eliminación de Gauss y obtener la solución\n",
    "solution = gauss_elimination(augmented_matrix)\n",
    "print(\"\\nSolución del sistema de ecuaciones (Método de Gauss):\")\n",
    "print(f\"x = {solution[0]}\")\n",
    "print(f\"y = {solution[1]}\")\n"
   ]
  },
  {
   "cell_type": "markdown",
   "id": "40dd9d19-a919-4bef-80be-e91fc97947a2",
   "metadata": {},
   "source": [
    "<code>2.2. Método de Eliminación de Gauss-Jordan </code>"
   ]
  },
  {
   "cell_type": "code",
   "execution_count": 16,
   "id": "18227c79-c679-41e2-a9b1-d1bbea03c62a",
   "metadata": {},
   "outputs": [
    {
     "name": "stdout",
     "output_type": "stream",
     "text": [
      "\n",
      "Solución del sistema de ecuaciones (Método de Gauss-Jordan):\n",
      "x = 2.0\n",
      "y = 3.0\n"
     ]
    }
   ],
   "source": [
    "import numpy as np\n",
    "\n",
    "# Definir la matriz de coeficientes y el vector de constantes\n",
    "A = np.array([[2, 3], [4, -1]], dtype=float)\n",
    "b = np.array([13, 5], dtype=float)\n",
    "\n",
    "# Formar la matriz aumentada\n",
    "augmented_matrix = np.hstack((A, b.reshape(-1, 1)))\n",
    "\n",
    "# Método de Gauss-Jordan\n",
    "def gauss_jordan(matrix):\n",
    "    A = matrix[:, :-1]\n",
    "    b = matrix[:, -1]\n",
    "    n = len(b)\n",
    "    \n",
    "    for i in range(n):\n",
    "        # Buscar el pivote (máximo valor absoluto en la columna i)\n",
    "        max_row = np.argmax(np.abs(A[i:n, i])) + i\n",
    "        if i != max_row:\n",
    "            # Intercambiar filas\n",
    "            A[[i, max_row], :] = A[[max_row, i], :]\n",
    "            b[[i, max_row]] = b[[max_row, i]]\n",
    "        \n",
    "        # Hacer pivote 1\n",
    "        pivot = A[i, i]\n",
    "        A[i, :] /= pivot\n",
    "        b[i] /= pivot\n",
    "        \n",
    "        # Hacer ceros en la columna del pivote\n",
    "        for j in range(n):\n",
    "            if i != j:\n",
    "                factor = A[j, i]\n",
    "                A[j, :] -= factor * A[i, :]\n",
    "                b[j] -= factor * b[i]\n",
    "    \n",
    "    return b\n",
    "\n",
    "solution = gauss_jordan(augmented_matrix)\n",
    "print(\"\\nSolución del sistema de ecuaciones (Método de Gauss-Jordan):\")\n",
    "print(f\"x = {solution[0]}\")\n",
    "print(f\"y = {solution[1]}\")\n"
   ]
  },
  {
   "cell_type": "markdown",
   "id": "7acd9afd-8607-4492-8708-973c85484f94",
   "metadata": {},
   "source": [
    "<h1><code> USANDO NUMPY PARA SOLUCIONAR MÁS FACIL EL PROBLEMA </code></h1>"
   ]
  },
  {
   "cell_type": "code",
   "execution_count": 15,
   "id": "58b82238-a61f-4de9-9e20-938b69d0bfdd",
   "metadata": {},
   "outputs": [
    {
     "name": "stdout",
     "output_type": "stream",
     "text": [
      "\n",
      "Solución del sistema de ecuaciones (Método NumPy):\n",
      "x = 2.0\n",
      "y = 3.0\n"
     ]
    }
   ],
   "source": [
    "import numpy as np\n",
    "\n",
    "# Definir la matriz de coeficientes y el vector de constantes\n",
    "A = np.array([[2, 3], [4, -1]])\n",
    "b = np.array([13, 5])\n",
    "\n",
    "# Resolver el sistema de ecuaciones\n",
    "solution = np.linalg.solve(A, b)\n",
    "print(\"\\nSolución del sistema de ecuaciones (Método NumPy):\")\n",
    "print(f\"x = {solution[0]}\")\n",
    "print(f\"y = {solution[1]}\")\n"
   ]
  },
  {
   "cell_type": "markdown",
   "id": "230b7056-5a4f-4cc3-8679-0e4e315410ae",
   "metadata": {},
   "source": [
    "<code>Imaginemos una fábrica con varias máquinas, y queremos simular el proceso en el que cada máquina trabaja y luego se detiene por mantenimiento. Vamos a suponer que tenemos dos máquinas, y cada una trabaja durante un tiempo específico y luego está parada durante otro tiempo específico. </code>"
   ]
  },
  {
   "cell_type": "code",
   "execution_count": 41,
   "id": "987120c7-f8e8-4be1-9b6a-f6256e913080",
   "metadata": {},
   "outputs": [
    {
     "name": "stdout",
     "output_type": "stream",
     "text": [
      "Ecuaciones:\n",
      "2⋅x + y = 13\n",
      "4⋅x - y = 5\n",
      "x = 3\n",
      "y = 7\n"
     ]
    }
   ],
   "source": [
    "import sympy as sp\n",
    "\n",
    "# Definir variables simbólicas\n",
    "x, y = sp.symbols('x y')\n",
    "\n",
    "# Definir ecuaciones\n",
    "eq1 = sp.Eq(2*x + y, 13)\n",
    "eq2 = sp.Eq(4*x - y, 5)\n",
    "# Imprimir las ecuaciones de manera bonita en la consola\n",
    "print(\"Ecuaciones:\")\n",
    "sp.pprint(eq1)\n",
    "sp.pprint(eq2)\n",
    "\n",
    "# Resolver el sistema de ecuaciones\n",
    "solution = sp.solve((eq1, eq2), (x, y))\n",
    "print(f\"x = {solution[x]}\")\n",
    "print(f\"y = {solution[y]}\")\n"
   ]
  },
  {
   "cell_type": "code",
   "execution_count": 37,
   "id": "2776827b-c2df-4bd3-a548-2153c5133056",
   "metadata": {},
   "outputs": [
    {
     "name": "stdout",
     "output_type": "stream",
     "text": [
      "Machine 1 starts working at 0\n",
      "Machine 2 starts working at 0\n",
      "Machine 1 stops working at 5\n",
      "Machine 2 stops working at 7\n",
      "Machine 1 starts working at 7\n",
      "Machine 2 starts working at 10\n",
      "Machine 1 stops working at 12\n",
      "Machine 1 starts working at 14\n",
      "Machine 2 stops working at 17\n",
      "Machine 1 stops working at 19\n",
      "Machine 2 starts working at 20\n",
      "Machine 1 starts working at 21\n",
      "Machine 1 stops working at 26\n",
      "Machine 2 stops working at 27\n",
      "Machine 1 starts working at 28\n"
     ]
    }
   ],
   "source": [
    "import simpy\n",
    "\n",
    "def machine(env, name, work_time, downtime):\n",
    "    \"\"\"Función que simula una máquina en la fábrica.\"\"\"\n",
    "    while True:\n",
    "        # La máquina comienza a trabajar\n",
    "        print(f'{name} starts working at {env.now}')\n",
    "        yield env.timeout(work_time)  # Simula el tiempo de trabajo\n",
    "        print(f'{name} stops working at {env.now}')\n",
    "        \n",
    "        # La máquina está en mantenimiento\n",
    "        yield env.timeout(downtime)  # Simula el tiempo de inactividad\n",
    "\n",
    "def setup(env):\n",
    "    \"\"\"Función para configurar el entorno y las máquinas.\"\"\"\n",
    "    # Crear dos máquinas con diferentes tiempos de trabajo y de inactividad\n",
    "    env.process(machine(env, 'Machine 1', work_time=5, downtime=2))\n",
    "    env.process(machine(env, 'Machine 2', work_time=7, downtime=3))\n",
    "\n",
    "# Crear el entorno de simulación\n",
    "env = simpy.Environment()\n",
    "\n",
    "# Configurar el entorno con las máquinas\n",
    "setup(env)  # Llama a setup, no es necesario env.process(setup(env))\n",
    "\n",
    "# Ejecutar la simulación durante un tiempo específico\n",
    "env.run(until=30)  # Ejecuta la simulación hasta el tiempo 30\n"
   ]
  }
 ],
 "metadata": {
  "kernelspec": {
   "display_name": "Python 3 (ipykernel)",
   "language": "python",
   "name": "python3"
  },
  "language_info": {
   "codemirror_mode": {
    "name": "ipython",
    "version": 3
   },
   "file_extension": ".py",
   "mimetype": "text/x-python",
   "name": "python",
   "nbconvert_exporter": "python",
   "pygments_lexer": "ipython3",
   "version": "3.11.6"
  }
 },
 "nbformat": 4,
 "nbformat_minor": 5
}
